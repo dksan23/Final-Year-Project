{
 "cells": [
  {
   "cell_type": "code",
   "execution_count": 1,
   "metadata": {},
   "outputs": [
    {
     "name": "stderr",
     "output_type": "stream",
     "text": [
      "Using TensorFlow backend.\n"
     ]
    }
   ],
   "source": [
    "\n",
    "# Regular modules for data science and visualization:\n",
    "\n",
    "import numpy as np\n",
    "\n",
    "import pandas\n",
    "\n",
    "import seaborn as sns\n",
    "\n",
    "import matplotlib.pyplot as plt\n",
    "\n",
    "\n",
    "\n",
    "\n",
    "\n",
    "\n",
    "import tensorflow as tf\n",
    "\n",
    "import tensorflow_hub as hub\n",
    "\n",
    "\n",
    "\n",
    "\n",
    "\n",
    "from keras.regularizers import l1, l2\n",
    "\n",
    "from keras.models import Sequential\n",
    "\n",
    "from keras.layers import Dense\n",
    "\n",
    "from keras.layers import Dropout\n",
    "\n",
    "from keras import backend\n",
    "\n",
    "from keras import optimizers\n",
    "\n",
    "\n",
    "\n",
    "#sklearn and imblearn modules:\n",
    "\n",
    "from sklearn.model_selection import cross_val_predict\n",
    "\n",
    "from sklearn.preprocessing import StandardScaler\n",
    "\n",
    "from sklearn.model_selection import StratifiedShuffleSplit\n",
    "\n",
    "from imblearn.over_sampling import SMOTE"
   ]
  },
  {
   "cell_type": "code",
   "execution_count": 2,
   "metadata": {},
   "outputs": [],
   "source": [
    "import pandas as pd\n",
    "import random\n",
    "p = 0.4\n",
    "\n",
    "df = pd.read_csv('articles2.csv',header=None,skiprows=lambda i: 1>0 and random.random() > p)\n",
    "\n",
    "\n",
    "\n",
    "n_s_a = df[df[3] == 'Atlantic']\n",
    "\n",
    "n_s_p = df[df[3] == 'New York Post']\n",
    "\n",
    "\n",
    "\n",
    "df = pd.read_csv('articles1.csv',header=None,skiprows=lambda i: 1>0 and random.random() > p)\n",
    "\n",
    "n_s_b = df[df[3] == 'Breitbart']\n",
    "\n",
    "n_s_n = df[df[3] == 'New York Times']"
   ]
  },
  {
   "cell_type": "code",
   "execution_count": 3,
   "metadata": {},
   "outputs": [],
   "source": [
    "n_s = list(n_s_b.iloc[:,9].values) + list(n_s_p.iloc[:,9].values) \\\n",
    " + list(n_s_a.iloc[:,9].values) + list(n_s_n.iloc[:,9].values)"
   ]
  },
  {
   "cell_type": "code",
   "execution_count": 4,
   "metadata": {},
   "outputs": [],
   "source": [
    "n_s = [word.replace('New York Post','') for word in n_s]\n",
    "n_s = [word.replace('Breitbart','') for word in n_s]\n",
    "n_s = [word.replace('New York Times','') for word in n_s]\n",
    "n_s = [word.replace('Atlantic','') for word in n_s]"
   ]
  },
  {
   "cell_type": "code",
   "execution_count": 5,
   "metadata": {},
   "outputs": [],
   "source": [
    "\n",
    "\n",
    "\n",
    "classes_All = np.asarray([1 for i in range(len(n_s_b))] + \\\n",
    "\n",
    "[2 for i in range(len(n_s_p))] + [3 for i in range(len(n_s_a))] + \\\n",
    "\n",
    "[4 for i in range(len(n_s_n))])\n",
    "\n",
    "\n",
    "classes_Bias = np.asarray([1 for i in range(len(n_s_b))] + \\\n",
    "\n",
    "[1 for i in range(len(n_s_p))] + [2 for i in range(len(n_s_a))] + \\\n",
    "\n",
    "[2 for i in range(len(n_s_n))])"
   ]
  },
  {
   "cell_type": "code",
   "execution_count": 6,
   "metadata": {},
   "outputs": [],
   "source": [
    ":\n",
    "\n",
    "g = tf.Graph()\n",
    "\n",
    "with g.as_default():\n",
    "\n",
    "  text_input = tf.placeholder(dtype=tf.string, shape=[None])\n",
    "\n",
    "  embed = hub.Module(\"https://tfhub.dev/google/universal-sentence-encoder-large/3\")\n",
    "\n",
    "  embedded_text = embed(text_input)\n",
    "\n",
    "  init_op = tf.group([tf.global_variables_initializer(), tf.tables_initializer()])\n",
    "\n",
    "g.finalize()\n",
    "\n",
    "\n",
    "\n",
    "\n",
    "\n",
    "session = tf.Session(graph=g)\n",
    "\n",
    "session.run(init_op)\n",
    "\n",
    "\n",
    "\n",
    "\n",
    "def similarity_matrix(merge_list):\n",
    "\n",
    "  \n",
    "\n",
    "    emb_all = np.zeros([len(merge_list),512])\n",
    "\n",
    "\n",
    "    for i in range(0,len(merge_list)):\n",
    "\n",
    "        \n",
    "\n",
    "        i_emb = session.run(embedded_text, feed_dict={text_input: [merge_list[i]]})\n",
    "\n",
    "        emb_all[i,:] = i_emb\n",
    "\n",
    "    return emb_all"
   ]
  },
  {
   "cell_type": "code",
   "execution_count": 7,
   "metadata": {},
   "outputs": [],
   "source": [
    "e_All = similarity_matrix(n_s)"
   ]
  },
  {
   "cell_type": "code",
   "execution_count": 8,
   "metadata": {},
   "outputs": [
    {
     "name": "stderr",
     "output_type": "stream",
     "text": [
      "WARNING: Logging before flag parsing goes to stderr.\n",
      "W0117 13:08:58.517569  6956 deprecation_wrapper.py:119] From C:\\Users\\HeavyD\\Anaconda\\lib\\site-packages\\keras\\backend\\tensorflow_backend.py:74: The name tf.get_default_graph is deprecated. Please use tf.compat.v1.get_default_graph instead.\n",
      "\n",
      "W0117 13:08:58.517569  6956 deprecation_wrapper.py:119] From C:\\Users\\HeavyD\\Anaconda\\lib\\site-packages\\keras\\backend\\tensorflow_backend.py:517: The name tf.placeholder is deprecated. Please use tf.compat.v1.placeholder instead.\n",
      "\n",
      "W0117 13:08:58.572875  6956 deprecation_wrapper.py:119] From C:\\Users\\HeavyD\\Anaconda\\lib\\site-packages\\keras\\backend\\tensorflow_backend.py:4138: The name tf.random_uniform is deprecated. Please use tf.random.uniform instead.\n",
      "\n",
      "W0117 13:08:58.623783  6956 deprecation_wrapper.py:119] From C:\\Users\\HeavyD\\Anaconda\\lib\\site-packages\\keras\\backend\\tensorflow_backend.py:133: The name tf.placeholder_with_default is deprecated. Please use tf.compat.v1.placeholder_with_default instead.\n",
      "\n",
      "W0117 13:08:58.632544  6956 deprecation.py:506] From C:\\Users\\HeavyD\\Anaconda\\lib\\site-packages\\keras\\backend\\tensorflow_backend.py:3445: calling dropout (from tensorflow.python.ops.nn_ops) with keep_prob is deprecated and will be removed in a future version.\n",
      "Instructions for updating:\n",
      "Please use `rate` instead of `keep_prob`. Rate should be set to `rate = 1 - keep_prob`.\n",
      "W0117 13:08:58.716749  6956 deprecation_wrapper.py:119] From C:\\Users\\HeavyD\\Anaconda\\lib\\site-packages\\keras\\optimizers.py:790: The name tf.train.Optimizer is deprecated. Please use tf.compat.v1.train.Optimizer instead.\n",
      "\n",
      "W0117 13:08:58.726513  6956 deprecation_wrapper.py:119] From C:\\Users\\HeavyD\\Anaconda\\lib\\site-packages\\keras\\backend\\tensorflow_backend.py:3341: The name tf.log is deprecated. Please use tf.math.log instead.\n",
      "\n"
     ]
    }
   ],
   "source": [
    "\n",
    "\n",
    "\n",
    "optim = optimizers.Adam(lr=0.00015) \n",
    "\n",
    "\n",
    "\n",
    "\n",
    "\n",
    "news_DNN = Sequential()\n",
    "\n",
    "news_DNN.add(Dense(40, input_dim=512, activation = 'relu',kernel_regularizer=l2(0.1)))\n",
    "\n",
    "news_DNN.add(Dropout(0.25))\n",
    "\n",
    "news_DNN.add(Dense(40, activation = 'relu',kernel_regularizer=l2(0.1)))\n",
    "\n",
    "news_DNN.add(Dropout(0.25))\n",
    "\n",
    "\n",
    "\n",
    "\n",
    "\n",
    "\n",
    "\n",
    "news_DNN.add(Dense(2,activation='softmax'))\n",
    "\n",
    "\n",
    "\n",
    "\n",
    "news_DNN.compile(loss='sparse_categorical_crossentropy', optimizer=optim, metrics=['acc'])"
   ]
  },
  {
   "cell_type": "code",
   "execution_count": 9,
   "metadata": {},
   "outputs": [],
   "source": [
    "sss = StratifiedShuffleSplit(n_splits=1, test_size=0.33)\n",
    "scaler=StandardScaler()\n",
    "for t, te in sss.split(e_All,classes_Bias):\n",
    "\n",
    "\n",
    "\n",
    "    x_train,x_test = scaler.fit_transform(e_All)[t],scaler.fit_transform(e_All)[te]\n",
    "\n",
    "   \n",
    "\n",
    "\n",
    "\n",
    "    y_train, y_test = classes_Bias[t]-1,classes_Bias[te]-1"
   ]
  },
  {
   "cell_type": "code",
   "execution_count": 10,
   "metadata": {},
   "outputs": [
    {
     "name": "stderr",
     "output_type": "stream",
     "text": [
      "W0117 13:09:30.633824  6956 deprecation.py:323] From C:\\Users\\HeavyD\\Anaconda\\lib\\site-packages\\tensorflow\\python\\ops\\math_grad.py:1250: add_dispatch_support.<locals>.wrapper (from tensorflow.python.ops.array_ops) is deprecated and will be removed in a future version.\n",
      "Instructions for updating:\n",
      "Use tf.where in 2.0, which has the same broadcast rule as np.where\n"
     ]
    }
   ],
   "source": [
    "[x_train_r, y_train_r] = SMOTE().fit_resample(x_train, y_train)\n",
    "m_h = news_DNN.fit(x_train_r, y_train_r, epochs=400, \\\n",
    "\n",
    "validation_data=(x_test, y_test), batch_size=32, verbose=0)"
   ]
  },
  {
   "cell_type": "code",
   "execution_count": 19,
   "metadata": {},
   "outputs": [
    {
     "data": {
      "text/plain": [
       "0.8398262522057826"
      ]
     },
     "execution_count": 19,
     "metadata": {},
     "output_type": "execute_result"
    }
   ],
   "source": [
    "from sklearn.metrics import accuracy_score \n",
    "from sklearn.metrics import confusion_matrix \n",
    "acs(y_test,news_DNN.predict_classes(x_test))"
   ]
  },
  {
   "cell_type": "code",
   "execution_count": 18,
   "metadata": {},
   "outputs": [],
   "source": [
    "news_DNN.save('news.h5')"
   ]
  },
  {
   "cell_type": "code",
   "execution_count": 22,
   "metadata": {},
   "outputs": [
    {
     "data": {
      "image/png": "[encoded data removed]",
      "text/plain": [
       "<Figure size 576x432 with 1 Axes>"
      ]
     },
     "metadata": {
      "needs_background": "light"
     },
     "output_type": "display_data"
    },
    {
     "data": {
      "image/png": "[encoded data removed]",
      "text/plain": [
       "<Figure size 288x216 with 2 Axes>"
      ]
     },
     "metadata": {
      "needs_background": "light"
     },
     "output_type": "display_data"
    }
   ],
   "source": [
    "\n",
    "with sns.color_palette(\"Accent\", n_colors=8):\n",
    "\n",
    "    plt.figure(figsize=(8,6))\n",
    "\n",
    "    sns.lineplot(data=np.asarray(m_h.history['acc']))\n",
    "\n",
    "    sns.lineplot(data=np.asarray(m_h.history['val_acc']))\n",
    "\n",
    "    plt.xlabel(\"Epochs\")\n",
    "\n",
    "    plt.ylabel(\"Accuracy\")\n",
    "\n",
    "    plt.title(\"Accuracy for Media Bias Classification\") \n",
    "\n",
    "    plt.legend(labels=['training', 'validation'],loc='lower right')\n",
    "\n",
    "    plt.text(330,0.755,'val Ac = ' + str(round(accuracy_score(y_test,news_DNN.predict_classes(x_test)),2))) \n",
    "\n",
    "    plt.savefig('outlets_bias_acc.svg',format='svg')\n",
    "\n",
    "\n",
    "\n",
    "\n",
    "\n",
    "plt.figure(figsize=(4, 3))\n",
    "\n",
    "sns.heatmap(confusion_matrix(y_test,news_DNN.predict_classes(x_test)),annot=True,linewidths=2, cmap=\"YlGnBu\",fmt=\"g\",xticklabels=['Right','Left'],yticklabels=['Right','Left'])\n",
    "\n",
    "plt.autoscale()\n",
    "\n",
    "plt.savefig('confusion_matrix_outlet_bias_bal.png',format='PNG',bbox_inches = \"tight\")"
   ]
  },
  {
   "cell_type": "code",
   "execution_count": null,
   "metadata": {},
   "outputs": [],
   "source": []
  }
 ],
 "metadata": {
  "kernelspec": {
   "display_name": "Python 3",
   "language": "python",
   "name": "python3"
  },
  "language_info": {
   "codemirror_mode": {
    "name": "ipython",
    "version": 3
   },
   "file_extension": ".py",
   "mimetype": "text/x-python",
   "name": "python",
   "nbconvert_exporter": "python",
   "pygments_lexer": "ipython3",
   "version": "3.7.1"
  }
 },
 "nbformat": 4,
 "nbformat_minor": 2
}
