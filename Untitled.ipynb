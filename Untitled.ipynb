{
 "cells": [
  {
   "cell_type": "markdown",
   "metadata": {},
   "source": [
    "# Analysis of Polarity in Online Journalism\n"
   ]
  },
  {
   "cell_type": "markdown",
   "metadata": {},
   "source": [
    " 1 : Loading all the neccessary libraries"
   ]
  },
  {
   "cell_type": "code",
   "execution_count": 1,
   "metadata": {},
   "outputs": [
    {
     "name": "stderr",
     "output_type": "stream",
     "text": [
      "Using TensorFlow backend.\n"
     ]
    }
   ],
   "source": [
    "import os\n",
    "import keras\n",
    "import numpy as np\n",
    "import tensorflow as tf\n",
    "import nltk\n",
    "import sklearn\n",
    "import random"
   ]
  },
  {
   "cell_type": "markdown",
   "metadata": {},
   "source": [
    "# 1 : Loading the Data\n",
    " The articles will be kept in a list .\n",
    " Each entry in the list will be an article .\n",
    " \n",
    " The labels( 0 or 1 , neutral or biased ) corresponding to each article are stored in a list of the same name .\n",
    " \n"
   ]
  },
  {
   "cell_type": "code",
   "execution_count": 44,
   "metadata": {},
   "outputs": [],
   "source": [
    "articles=[]\n",
    "labels=[]\n",
    "\n",
    "random.seed(2)\n"
   ]
  },
  {
   "cell_type": "markdown",
   "metadata": {},
   "source": [
    "### Loading articles for keywords 1-8"
   ]
  },
  {
   "cell_type": "code",
   "execution_count": 45,
   "metadata": {},
   "outputs": [],
   "source": [
    "\n",
    "for i in os.listdir(os.getcwd()+'\\\\1-8\\\\articles'):\n",
    "    with open(os.getcwd()+'\\\\1-8\\\\articles'+'\\\\'+i,'r') as f:\n",
    "        s=f.read()\n",
    "        articles.append(s)\n",
    "    with open(os.getcwd()+'\\\\1-8\\\\labels\\\\'+i,\"r\") as w:\n",
    "        s=w.read()\n",
    "        labels.append(s)\n",
    "        \n",
    "        "
   ]
  },
  {
   "cell_type": "markdown",
   "metadata": {},
   "source": [
    "### Loading articles for keywords 9-16"
   ]
  },
  {
   "cell_type": "code",
   "execution_count": 46,
   "metadata": {},
   "outputs": [],
   "source": [
    "\n",
    "for i in os.listdir(os.getcwd()+'\\\\9-16\\\\articles'):\n",
    "    with open(os.getcwd()+'\\\\9-16\\\\articles'+'\\\\'+i,'r') as f:\n",
    "        s=f.read()\n",
    "        articles.append(s)\n",
    "    with open(os.getcwd()+'\\\\9-16\\\\labels\\\\'+i,\"r\") as w:\n",
    "        s=w.read()\n",
    "        labels.append(s)"
   ]
  },
  {
   "cell_type": "markdown",
   "metadata": {},
   "source": [
    "### Loading articles for keywords 18-24"
   ]
  },
  {
   "cell_type": "code",
   "execution_count": 47,
   "metadata": {},
   "outputs": [],
   "source": [
    "\n",
    "for i in os.listdir(os.getcwd()+'\\\\18_24\\\\articles'):\n",
    "    with open(os.getcwd()+'\\\\18_24\\\\articles\\\\'+i,'r') as f:\n",
    "        s=f.read()\n",
    "        articles.append(s)\n",
    "for i in os.listdir(os.getcwd()+'\\\\18_24\\\\labels'):        \n",
    "    with open(os.getcwd()+'\\\\18_24\\\\labels\\\\'+i,\"r\") as w:\n",
    "        s=w.read()\n",
    "        labels.append(s)"
   ]
  },
  {
   "cell_type": "markdown",
   "metadata": {},
   "source": [
    "### Loading articles for keywords 25-32"
   ]
  },
  {
   "cell_type": "code",
   "execution_count": 48,
   "metadata": {},
   "outputs": [],
   "source": [
    "\n",
    "for i in os.listdir(os.getcwd()+'\\\\25-32\\\\articles'):\n",
    "    with open(os.getcwd()+'\\\\25-32\\\\articles\\\\'+i,'r') as f:\n",
    "        s=f.read()\n",
    "        articles.append(s)\n",
    "    with open(os.getcwd()+'\\\\25-32\\\\labels\\\\'+i,\"r\") as w:\n",
    "        s=w.read()\n",
    "        labels.append(s)"
   ]
  },
  {
   "cell_type": "markdown",
   "metadata": {},
   "source": [
    "# 2 : Data Preproccessing"
   ]
  },
  {
   "cell_type": "code",
   "execution_count": 49,
   "metadata": {},
   "outputs": [
    {
     "data": {
      "text/plain": [
       "319"
      ]
     },
     "execution_count": 49,
     "metadata": {},
     "output_type": "execute_result"
    }
   ],
   "source": [
    "len(labels)"
   ]
  },
  {
   "cell_type": "markdown",
   "metadata": {},
   "source": [
    "### 2.1 Preproccessing using regexp and NLTK"
   ]
  },
  {
   "cell_type": "code",
   "execution_count": 50,
   "metadata": {},
   "outputs": [],
   "source": [
    "import re\n",
    "from nltk.corpus import stopwords\n",
    "REPLACE_BY_SPACE_RE = re.compile('[/(){}\\[\\]\\|@,;]')\n",
    "\n",
    "BAD_SYMBOLS_RE = re.compile('[^0-9a-z #+_]')\n",
    "\n",
    "STOPWORDS = set(stopwords.words('english'))\n",
    "\n",
    "\n",
    "\n",
    "def text_prepare(text):\n",
    "\n",
    "    \"\"\"\n",
    "\n",
    "        text: a string\n",
    "\n",
    "        \n",
    "\n",
    "        return: modified initial string\n",
    "\n",
    "    \"\"\"\n",
    "\n",
    "    text =text.lower() # lowercase text\n",
    "\n",
    "    text =re.sub(REPLACE_BY_SPACE_RE,\" \",text) # replace REPLACE_BY_SPACE_RE symbols by space in text\n",
    "\n",
    "    text =re.sub(BAD_SYMBOLS_RE,\"\",text) # delete symbols which are in BAD_SYMBOLS_RE from text\n",
    "\n",
    "    text1=text.split()# delete stopwords from text\n",
    "\n",
    "    text=\" \".join(word for word in text1 if word not in (STOPWORDS))\n",
    "\n",
    "    return text\n",
    "\n",
    "articles_1=[text_prepare(text) for text in articles] # run the articles through the text_prepare function\n"
   ]
  },
  {
   "cell_type": "markdown",
   "metadata": {},
   "source": [
    "## Transform the proccessed articles using the tf-idf vectorizer"
   ]
  },
  {
   "cell_type": "code",
   "execution_count": 51,
   "metadata": {},
   "outputs": [],
   "source": [
    "from sklearn.feature_extraction.text import TfidfVectorizer\n",
    "\n",
    "vectorizer = TfidfVectorizer(min_df=5, max_df=0.9, ngram_range=(1, 2),token_pattern='(\\S+)')\n",
    "\n",
    "X=vectorizer.fit_transform(articles_1)"
   ]
  },
  {
   "cell_type": "code",
   "execution_count": 52,
   "metadata": {},
   "outputs": [
    {
     "data": {
      "text/plain": [
       "(319, 3400)"
      ]
     },
     "execution_count": 52,
     "metadata": {},
     "output_type": "execute_result"
    }
   ],
   "source": [
    "X.shape"
   ]
  },
  {
   "cell_type": "markdown",
   "metadata": {},
   "source": [
    "## Splitting into Train and Test Sets "
   ]
  },
  {
   "cell_type": "code",
   "execution_count": 92,
   "metadata": {},
   "outputs": [],
   "source": [
    "X_train,X_test=X[:296],X[296:]\n",
    "y_tr,y_te=labels[:296],labels[296:]"
   ]
  },
  {
   "cell_type": "markdown",
   "metadata": {},
   "source": [
    "### One Hot Encode labels "
   ]
  },
  {
   "cell_type": "code",
   "execution_count": 93,
   "metadata": {},
   "outputs": [],
   "source": [
    "from keras.utils import to_categorical"
   ]
  },
  {
   "cell_type": "code",
   "execution_count": 94,
   "metadata": {},
   "outputs": [],
   "source": [
    "encoded=to_categorical(labels)"
   ]
  },
  {
   "cell_type": "code",
   "execution_count": 95,
   "metadata": {},
   "outputs": [],
   "source": [
    "y_tr,y_te=to_categorical(y_tr),to_categorical(y_te)"
   ]
  },
  {
   "cell_type": "markdown",
   "metadata": {},
   "source": [
    "# Training Classifier"
   ]
  },
  {
   "cell_type": "code",
   "execution_count": 96,
   "metadata": {},
   "outputs": [],
   "source": [
    "from sklearn.multiclass import OneVsRestClassifier\n",
    "\n",
    "from sklearn.svm import LinearSVC\n",
    "\n",
    "def Classifier(xtrain,ytrain):\n",
    "\n",
    "    svm=LinearSVC()\n",
    "\n",
    "    orc=OneVsRestClassifier(svm,n_jobs=-1)\n",
    "\n",
    "    return orc.fit(xtrain,ytrain)"
   ]
  },
  {
   "cell_type": "code",
   "execution_count": 97,
   "metadata": {},
   "outputs": [],
   "source": [
    "basic=Classifier(X_train,y_tr)"
   ]
  },
  {
   "cell_type": "code",
   "execution_count": 98,
   "metadata": {},
   "outputs": [],
   "source": [
    "prediction=basic.predict(X_test)"
   ]
  },
  {
   "cell_type": "code",
   "execution_count": 99,
   "metadata": {},
   "outputs": [
    {
     "name": "stdout",
     "output_type": "stream",
     "text": [
      "0.5652173913043478\n",
      "0.5635704874835309\n",
      "0.5387199756764974\n"
     ]
    }
   ],
   "source": [
    "from sklearn.metrics import accuracy_score\n",
    "\n",
    "from sklearn.metrics import f1_score\n",
    "\n",
    "from sklearn.metrics import roc_auc_score \n",
    "\n",
    "from sklearn.metrics import average_precision_score\n",
    "\n",
    "from sklearn.metrics import recall_score\n",
    "\n",
    "print(accuracy_score(y_te, prediction))\n",
    "\n",
    "print(f1_score(y_te, prediction, average='weighted'))\n",
    "\n",
    "print(average_precision_score(y_te, prediction))  "
   ]
  },
  {
   "cell_type": "markdown",
   "metadata": {},
   "source": [
    "## Need more Data !"
   ]
  }
 ],
 "metadata": {
  "kernelspec": {
   "display_name": "Python 3",
   "language": "python",
   "name": "python3"
  },
  "language_info": {
   "codemirror_mode": {
    "name": "ipython",
    "version": 3
   },
   "file_extension": ".py",
   "mimetype": "text/x-python",
   "name": "python",
   "nbconvert_exporter": "python",
   "pygments_lexer": "ipython3",
   "version": "3.7.1"
  }
 },
 "nbformat": 4,
 "nbformat_minor": 2
}
